{
 "cells": [
  {
   "cell_type": "code",
   "execution_count": 3,
   "metadata": {},
   "outputs": [
    {
     "name": "stdout",
     "output_type": "stream",
     "text": [
      "Your password is XU50h7pDK7!p%-Fz19l\n"
     ]
    }
   ],
   "source": [
    "'''\n",
    "   In this notebook I am creating a password generator so I can randomly create strong\n",
    "   passwords for my various accounts. Some of the symbols used in this code are not permitted\n",
    "   for certain passwords. Also, password length might exceed the allowed standard.\n",
    "'''\n",
    "import random\n",
    "\n",
    "numbers = ['0', '1', '2', '3', '4', '5', '6', '7', '8', '9']\n",
    "symbols = ['{','}','[',']','~','|',\"<\",'>','_','-','?','^','*',\n",
    "           '+','!',')','(','%','$','&','/','#']\n",
    "letters = ['A', 'B', 'C', 'D', 'E', 'F', 'G', 'H', 'I', 'J', 'K', 'L', 'M', 'N', 'O', 'P', 'Q',\n",
    "           'R', 'S', 'T', 'U', 'V', 'W', 'X', 'Y', 'Z','a', 'b', 'c', 'd', 'e', 'f', 'g', 'h',\n",
    "           'i', 'j', 'k', 'l', 'm', 'n', 'o', 'p', 'q', 'r', 's', 't', 'u', 'v', 'w', 'x', 'y',\n",
    "           'z']\n",
    "\n",
    "number_of_numbers = random.randint(3, 7)\n",
    "number_of_symbols = random.randint(1, 4)\n",
    "number_of_letters = random.randint(9, 10)\n",
    "\n",
    "list_of_password = []\n",
    "\n",
    "for number in range(number_of_numbers):\n",
    "    list_of_password.append(random.choice(numbers))\n",
    "\n",
    "for symbol in range(number_of_symbols):\n",
    "    list_of_password.append(random.choice(symbols))\n",
    "\n",
    "for letter in range(number_of_letters):\n",
    "    list_of_password.append(random.choice(letters))\n",
    "\n",
    "random.shuffle(list_of_password)\n",
    "my_password = ''\n",
    "\n",
    "for character in list_of_password:\n",
    "    my_password += character\n",
    "    \n",
    "print('Your password is {}'.format(my_password))"
   ]
  }
 ],
 "metadata": {
  "kernelspec": {
   "display_name": "Python 3",
   "language": "python",
   "name": "python3"
  },
  "language_info": {
   "codemirror_mode": {
    "name": "ipython",
    "version": 3
   },
   "file_extension": ".py",
   "mimetype": "text/x-python",
   "name": "python",
   "nbconvert_exporter": "python",
   "pygments_lexer": "ipython3",
   "version": "3.8.3"
  }
 },
 "nbformat": 4,
 "nbformat_minor": 4
}
